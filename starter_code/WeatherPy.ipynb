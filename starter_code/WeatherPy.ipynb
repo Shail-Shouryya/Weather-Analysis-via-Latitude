{
 "cells": [
  {
   "cell_type": "code",
   "execution_count": 1,
   "metadata": {
    "scrolled": true
   },
   "outputs": [],
   "source": [
    "# Dependencies and Setup\n",
    "import matplotlib.pyplot as plt\n",
    "import pandas as pd\n",
    "import numpy as np\n",
    "import requests\n",
    "import time\n",
    "import json\n",
    "\n",
    "# Import API key\n",
    "import api_keys\n",
    "\n",
    "# Incorporated citipy to determine city based on latitude and longitude\n",
    "from citipy import citipy\n",
    "\n",
    "# Output File (CSV)\n",
    "output_data_file = \"output_data/cities.csv\"\n",
    "\n",
    "# Range of latitudes and longitudes\n",
    "lat_range = (-90, 90)\n",
    "lng_range = (-180, 180)"
   ]
  },
  {
   "cell_type": "code",
   "execution_count": 2,
   "metadata": {},
   "outputs": [
    {
     "name": "stdout",
     "output_type": "stream",
     "text": [
      "2018-08-30 02:22:47.517801\n"
     ]
    },
    {
     "data": {
      "text/plain": [
       "'2018-08-30 02:22'"
      ]
     },
     "execution_count": 2,
     "metadata": {},
     "output_type": "execute_result"
    }
   ],
   "source": [
    "import datetime\n",
    "now = datetime.datetime.now()\n",
    "print (now)\n",
    "now.strftime(\"%Y-%m-%d %H:%M\")"
   ]
  },
  {
   "cell_type": "markdown",
   "metadata": {},
   "source": [
    "## Generate Cities List"
   ]
  },
  {
   "cell_type": "code",
   "execution_count": null,
   "metadata": {},
   "outputs": [
    {
     "data": {
      "text/plain": [
       "628"
      ]
     },
     "execution_count": 3,
     "metadata": {},
     "output_type": "execute_result"
    }
   ],
   "source": [
    "# List for holding lat_lngs and cities\n",
    "lat_lngs = []\n",
    "cities = []\n",
    "countries = []\n",
    "\n",
    "# Create a set of random lat and lng combinations\n",
    "lats = np.random.uniform(low=-90.000, high=90.000, size=1500)\n",
    "lngs = np.random.uniform(low=-180.000, high=180.000, size=1500)\n",
    "lat_lngs = zip(lats, lngs)\n",
    "\n",
    "# Identify nearest city for each lat, lng combination\n",
    "for lat_lng in lat_lngs:\n",
    "    city = citipy.nearest_city(lat_lng[0], lat_lng[1]).city_name\n",
    "    #print (city)\n",
    "    # If the city is unique, then add it to a our cities list\n",
    "    if city not in cities:\n",
    "        cities.append(city)\n",
    "\n",
    "# Print the city count to confirm sufficient count\n",
    "len(cities)"
   ]
  },
  {
   "cell_type": "markdown",
   "metadata": {},
   "source": [
    "## Perform API Calls"
   ]
  },
  {
   "cell_type": "code",
   "execution_count": null,
   "metadata": {},
   "outputs": [],
   "source": [
    "# OpenWeatherMap API Key\n",
    "api_key = api_keys.api_key\n",
    "\n",
    "# Starting URL for Weather Map API Call\n",
    "url = \"http://api.openweathermap.org/data/2.5/weather?units=Imperial&APPID=\" + api_key \n",
    "#print (url)\n",
    "\n",
    "cityError = \"City not found!\"\n",
    "temperatures = []\n",
    "humidities = []\n",
    "cloudinesses = []\n",
    "windSpeeds = []\n",
    "latitudes = []\n",
    "longitudes = []\n",
    "countries = []\n",
    "\n",
    "i = -1\n",
    "for city in cities[:]:\n",
    "    i = i + 1\n",
    "    cityURL = url + \"&q=\" + city\n",
    "    #print (cityURL)\n",
    "    cityWeatherResponse = requests.get(cityURL).json()\n",
    "    #print(json.dumps(cityWeatherResponse, indent=4, sort_keys=True))\n",
    "    #print (cityWeatherResponse)\n",
    "    try:\n",
    "        cityTemperature = cityWeatherResponse['main']['temp']\n",
    "        cityHumidity = cityWeatherResponse['main']['humidity']\n",
    "        #cityCloudiness = cityWeatherResponse['weather'][0]['description']\n",
    "        cityCloudiness = cityWeatherResponse['clouds']['all']\n",
    "        cityWindSpeed = cityWeatherResponse['wind']['speed']\n",
    "        #print(f\"City: {city}\")\n",
    "        #print(f\"Temperature: {cityTemperature}\")\n",
    "        #print(f\"Humidity: {cityHumidity}\")\n",
    "        #print(f\"Cloudiness: {cityCloudiness}\")\n",
    "        #print(f\"Wind speed: {cityWindSpeed}\")\n",
    "        #print(\"##################\")\n",
    "        temperatures.append(cityTemperature)\n",
    "        humidities.append(cityHumidity)\n",
    "        cloudinesses.append(cityCloudiness)\n",
    "        windSpeeds.append(cityWindSpeed)\n",
    "        \n",
    "        latitude = lats[i]\n",
    "        latitudes.append(latitude)\n",
    "        longitude = lngs[i]\n",
    "        longitudes.append(longitude)\n",
    "        #cities.append(city)\n",
    "        #print(latitudes)\n",
    "\n",
    "    except:\n",
    "        #print(cityError)\n",
    "        cities.remove(city)\n",
    "\n",
    "print(len(temperatures))\n",
    "print(len(humidities))\n",
    "print(len(cloudinesses))\n",
    "print(len(windSpeeds))\n",
    "print(len(latitudes))\n",
    "print(len(longitudes))\n",
    "print(len(countries))\n",
    "print(len(cities))"
   ]
  },
  {
   "cell_type": "code",
   "execution_count": null,
   "metadata": {},
   "outputs": [],
   "source": [
    "numberTemperatures = len(temperatures)\n",
    "numberHumidities = len(humidities)\n",
    "numberCloudinesses =  len(cloudinesses)\n",
    "numberWindSpeeds = len(windSpeeds)\n",
    "print(cities)\n",
    "print(cloudinesses)\n",
    "#countList = []\n",
    "#countDF = pd.DataFrame({\"Temperature\":numberTemperatures, \"Humidity\":numberHumidities, \"Cloudiness\":numberCloudinesses, \"Wind Speed\":numberWindSpeeds}, index=[0])\n",
    "'''\n",
    "countDF = pd.DataFrame([{\"Temperature\":numberTemperatures},\n",
    "                        {\"Humidity\":numberHumidities},\n",
    "                        {\"Cloudiness\":numberCloudinesses},\n",
    "                        {\"Wind Speed\":numberWindSpeeds}\n",
    "                       ])\n",
    "'''\n",
    "#countDF = pd.DataFrame({[\"Temperature\", \"Humidity\", \"Cloudiness\", \"Wind Speed\"]:\n",
    "#                        [numberTemperatures, numberHumidities, numberCloudinesses, numberWindSpeeds]})\n",
    "#print (countDF)\n",
    "numberWindSpeeds\n",
    "df = pd.DataFrame({\"City\":cities, \"Cloudiness\":cloudinesses})\n",
    "#\"Country\":countries\n",
    "                   #\"Date\":now, \"Humidity\":humidities, \"Lat\":latitudes,\n",
    "                   #\"Lng\":longitudes, \"Max Temp\":temperatures, \"Wind Speed\":windSpeeds\n",
    "#})\n",
    "df"
   ]
  },
  {
   "cell_type": "code",
   "execution_count": null,
   "metadata": {},
   "outputs": [],
   "source": [
    "temperatureLatitudePlot = plt.scatter(latitudes, temperatures, color=\"Gold\", alpha=1, edgecolor=\"gray\", label=\"Urban\", linewidth=1) #s=driversPerCity*7,\n",
    "plt.title(f\"City Latitude vs. Temperatures ({now.strftime('%Y-%m-%d %H:%M')})\")\n",
    "plt.xlabel(\"Latitude\")\n",
    "plt.ylabel(\"Max Temperature (F)\")\n",
    "#plt.text(42, 42, s=\"Note: Circle size correlates with driver count per city.\")\n",
    "plt.grid()\n",
    "#plt.legend( handles=[urbanPlot, suburbanPlot, ruralPlot], loc=\"best\")\n",
    "plt.savefig(\"latitudeVStemperature.png\")\n",
    "plt.tight_layout()\n",
    "#################################################################################################################"
   ]
  },
  {
   "cell_type": "code",
   "execution_count": null,
   "metadata": {},
   "outputs": [],
   "source": [
    "humidityLatitudePlot = plt.scatter(latitudes, humidities, color=\"Blue\", alpha=1, edgecolor=\"gray\", label=\"Urban\", linewidth=1) #s=driversPerCity*7,\n",
    "plt.title(f\"City Latitude vs. Humidity ({now.strftime('%Y-%m-%d %H:%M')})\")\n",
    "plt.xlabel(\"Latitude\")\n",
    "plt.ylabel(\"Humidity\")\n",
    "#plt.text(42, 42, s=\"Note: Circle size correlates with driver count per city.\")\n",
    "plt.grid()\n",
    "#plt.legend( handles=[urbanPlot, suburbanPlot, ruralPlot], loc=\"best\")\n",
    "plt.savefig(\"latitudeVShumidity.png\")\n",
    "plt.tight_layout()\n",
    "#################################################################################################################"
   ]
  },
  {
   "cell_type": "code",
   "execution_count": null,
   "metadata": {},
   "outputs": [],
   "source": [
    "cloudinessLatitudePlot = plt.scatter(latitudes, cloudinesses, color=\"Orange\", alpha=1, edgecolor=\"gray\", label=\"Urban\", linewidth=1) #s=driversPerCity*7,\n",
    "plt.title(f\"City Latitude vs. Cloudiness ({now.strftime('%Y-%m-%d %H:%M')})\")\n",
    "plt.xlabel(\"Latitude\")\n",
    "plt.ylabel(\"Cloudiness (%)\")\n",
    "#plt.text(42, 42, s=\"Note: Circle size correlates with driver count per city.\")\n",
    "plt.grid()\n",
    "#plt.legend( handles=[urbanPlot, suburbanPlot, ruralPlot], loc=\"best\")\n",
    "plt.savefig(\"latitudeVScloudiness.png\")\n",
    "plt.tight_layout()\n",
    "#################################################################################################################"
   ]
  },
  {
   "cell_type": "code",
   "execution_count": null,
   "metadata": {},
   "outputs": [],
   "source": [
    "windSpeedLatitudePlot = plt.scatter(latitudes, windSpeeds, color=\"Green\", alpha=1, edgecolor=\"gray\", label=\"Urban\", linewidth=1) #s=driversPerCity*7,\n",
    "plt.title(f\"City Latitude vs. Wind Speed ({now.strftime('%Y-%m-%d %H:%M')})\")\n",
    "plt.xlabel(\"Latitude\")\n",
    "plt.ylabel(\"Wind Speed (mph)\")\n",
    "#plt.text(42, 42, s=\"Note: Circle size correlates with driver count per city.\")\n",
    "plt.grid()\n",
    "#plt.legend( handles=[urbanPlot, suburbanPlot, ruralPlot], loc=\"best\")\n",
    "plt.savefig(\"latitudeVSwindspeeds.png\")\n",
    "plt.tight_layout()\n",
    "#################################################################################################################"
   ]
  },
  {
   "cell_type": "code",
   "execution_count": null,
   "metadata": {},
   "outputs": [],
   "source": []
  }
 ],
 "metadata": {
  "anaconda-cloud": {},
  "kernelspec": {
   "display_name": "Python 3",
   "language": "python",
   "name": "python3"
  },
  "language_info": {
   "codemirror_mode": {
    "name": "ipython",
    "version": 3
   },
   "file_extension": ".py",
   "mimetype": "text/x-python",
   "name": "python",
   "nbconvert_exporter": "python",
   "pygments_lexer": "ipython3",
   "version": "3.6.4"
  }
 },
 "nbformat": 4,
 "nbformat_minor": 1
}
